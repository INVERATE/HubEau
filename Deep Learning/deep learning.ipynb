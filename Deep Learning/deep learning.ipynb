{
  "nbformat": 4,
  "nbformat_minor": 0,
  "metadata": {
    "colab": {
      "provenance": [],
      "include_colab_link": true
    },
    "kernelspec": {
      "name": "python3",
      "display_name": "Python 3"
    },
    "language_info": {
      "name": "python"
    }
  },
  "cells": [
    {
      "cell_type": "markdown",
      "metadata": {
        "id": "view-in-github",
        "colab_type": "text"
      },
      "source": [
        "<a href=\"https://colab.research.google.com/github/INVERATE/HubEau/blob/master/Deep%20Learning/deep%20learning.ipynb\" target=\"_parent\"><img src=\"https://colab.research.google.com/assets/colab-badge.svg\" alt=\"Open In Colab\"/></a>"
      ]
    },
    {
      "cell_type": "code",
      "execution_count": null,
      "metadata": {
        "id": "F-4cufw4FQls"
      },
      "outputs": [],
      "source": [
        "# Enregistrez le code dans le fichier « keras-test.py » dans le dossier « keras-test »\n",
        "from __future__ import print_function\n",
        "# Télécharger Keras\n",
        "import keras\n",
        "# Télécharger les dossiers de formation et de test MNIST\n",
        "from keras.datasets import mnist\n",
        "# Télécharger le modèle séquentiel\n",
        "from keras.models import Sequential\n",
        "# Télécharger les couches des cellules neuronales\n",
        "from keras.layers import Dense, Dropout, Flatten\n",
        "from keras.layers import Conv2D, MaxPooling2D\n",
        "from keras import backend as K\n",
        "# Nombre de caractéristiques de données différentes : chiffres 0-9\n",
        "num_classes = 10\n",
        "# Nombre de laissez-passer pour la formation du réseau de neurones\n",
        "epochs = 12\n",
        "# Nombre de données utilisées lors d’un passage\n",
        "batch_size = 128\n",
        "# Dimensions des images d’entrée (28 x 28 pixels par image)\n",
        "img_rows, img_cols = 28, 28\n",
        "# Télécharger les formations et les tests\n",
        "(train_images, train_labels), (test_images, test_labels) = mnist.load_data()\n",
        "if K.image_data_format() == 'channels_first':\n",
        "    train_images = train_images.reshape(train_images.shape[0], 1, img_rows, img_cols)\n",
        "    test_images = test_images.reshape(test_images.shape[0], 1, img_rows, img_cols)\n",
        "    input_shape = (1, img_rows, img_cols)\n",
        "else:\n",
        "    train_images = train_images.reshape(train_images.shape[0], img_rows, img_cols, 1)\n",
        "    test_images = test_images.reshape(test_images.shape[0], img_rows, img_cols, 1)\n",
        "    input_shape = (img_rows, img_cols, 1)\n",
        "# Définir le type de données en nombre décimal\n",
        "train_images = train_images.astype('float32')\n",
        "test_images = test_images.astype('float32')\n",
        "# Normaliser les données des images\n",
        "train_images /= 255\n",
        "test_images /= 255\n",
        "print('train_images shape:', train_images.shape)\n",
        "print(train_images.shape[0], 'train samples')\n",
        "print(test_images.shape[0], 'test samples')\n",
        "# Convertir les vecteurs de classe en matrices de classe binaires\n",
        "train_labels = keras.utils.to_categorical(train_labels, num_classes)\n",
        "test_labels = keras.utils.to_categorical(test_labels, num_classes)\n",
        "# Créer un modèle\n",
        "model = Sequential()\n",
        "# Ajouter des couches au modèle\n",
        "model.add(Conv2D(2, kernel_size=(3, 3),   # couches avec fonction d’activation ReLU\n",
        "                 activation='relu',\n",
        "                 input_shape=input_shape))\n",
        "model.add(Conv2D(64, (3, 3), activation='relu'))\n",
        "model.add(MaxPooling2D(pool_size=(2, 2)))\n",
        "model.add(Dropout(0.25))\n",
        "model.add(Flatten())\n",
        "model.add(Dense(128, activation='relu'))\n",
        "model.add(Dropout(0.5))\n",
        "model.add(Dense(num_classes, activation='softmax'))\n",
        "# Compiler le modèle\n",
        "model.compile(loss=keras.losses.categorical_crossentropy,\n",
        "              optimizer=keras.optimizers.Adam(),\n",
        "              metrics=['accuracy'])\n",
        "# Former le modèle\n",
        "model.fit(train_images, train_labels,\n",
        "          batch_size=batch_size,\n",
        "          epochs=epochs,\n",
        "          verbose=1,\n",
        "          validation_data=(test_images, test_labels))\n",
        "# Évaluer le modèle\n",
        "score = model.evaluate(test_images, test_labels, verbose=0)\n",
        "print('Test loss:', score[0])\n",
        "print('Test accuracy:', score[1])"
      ]
    }
  ]
}